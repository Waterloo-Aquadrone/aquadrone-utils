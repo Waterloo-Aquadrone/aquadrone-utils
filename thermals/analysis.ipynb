{
 "cells": [
  {
   "cell_type": "code",
   "execution_count": 1,
   "metadata": {
    "collapsed": true
   },
   "outputs": [],
   "source": [
    "import numpy as np\n",
    "import matplotlib.pyplot as plt\n",
    "from thermals.thermal_system import ThermalSystem\n"
   ]
  },
  {
   "cell_type": "code",
   "execution_count": 2,
   "outputs": [],
   "source": [
    "sim_dur = 3600 # simulation duration in s\n",
    "\n",
    "C_eff = 5000 # Effective heat capacity in J/K (equivalent to mass*specific_heat_capacity)\n",
    "hA_eff = 10 # Effective thermal conductance in W/K\n",
    "T_inf = 298.15 # Ambient temperature\n",
    "P_heat = 100 # Internal heat release\n",
    "T_0 = [T_inf, T_inf] # characteristic temperature T in K\n",
    "\n",
    "\n",
    "system = ThermalSystem([C_eff, np.inf], node_labels=['object', 'air'])\n",
    "system.add_heat_source('object', P_heat)\n",
    "system.add_convective_contact('object', 'air', hA_eff, 1)\n",
    "t, T = system.integrate(T_0, sim_dur)"
   ],
   "metadata": {
    "collapsed": false,
    "pycharm": {
     "name": "#%%\n"
    }
   }
  },
  {
   "cell_type": "code",
   "execution_count": 3,
   "outputs": [
    {
     "data": {
      "text/plain": "<Figure size 432x288 with 1 Axes>",
      "image/png": "[encoded data removed]"
     },
     "metadata": {
      "needs_background": "light"
     },
     "output_type": "display_data"
    }
   ],
   "source": [
    "C_1, P_1,A_1 = 5000, 100, 0.5\n",
    "C_2, P_2, A_2 = 3000, 30, 0.3\n",
    "\n",
    "# source1, source2, internal air, internal wall, external wall, external air\n",
    "cv_air = 718  # J/kgK\n",
    "rho_air = 1.225  # kg/m^3\n",
    "air_volume = 2  # m^3\n",
    "h = 12.12  # W/m^2K (https://www.engineeringtoolbox.com/convective-heat-transfer-d_430.html)\n",
    "\n",
    "C_wall = 20 * 160  # J/K for 20 kg of lead (http://www2.ucdsb.on.ca/tiss/stretton/database/Specific_Heat_Capacity_Table.html)\n",
    "A_wall = 3  # m^2\n",
    "\n",
    "\n",
    "system = ThermalSystem([C_1, C_2, cv_air * rho_air * air_volume, C_wall, np.inf],\n",
    "                        ['source', 'motors', 'internal air', 'wall', 'external air'])\n",
    "system.add_heat_source('source', P_1)\n",
    "# system.add_conductive_contact('source', 'wall', 36.6, A_1, 0.05)\n",
    "system.add_convective_contact('source', 'internal air', h, A_1)\n",
    "system.add_heat_source('motors', P_2)\n",
    "system.add_convective_contact('motors', 'internal air', h, A_2)\n",
    "system.add_convective_contact('wall', 'internal air', h, A_wall)\n",
    "system.add_convective_contact('wall', 'external air', h, A_wall)\n",
    "\n",
    "t, T = system.integrate(25, 5 * 3600)"
   ],
   "metadata": {
    "collapsed": false,
    "pycharm": {
     "name": "#%%\n"
    }
   }
  },
  {
   "cell_type": "code",
   "execution_count": null,
   "outputs": [],
   "source": [
    "for i, name in enumerate(system.node_labels):\n",
    "    plt.plot(t / 3600, T[i, :], label=name)\n",
    "plt.legend()\n",
    "plt.xlabel('Time (hrs)')\n",
    "plt.ylabel('Temperature (K)')\n",
    "plt.show()\n",
    "\n",
    "# 200W, 20min-30min, liquid cooled, 22-32C\n",
    "# Brian, scott get thermal census"
   ],
   "metadata": {
    "collapsed": false,
    "pycharm": {
     "name": "#%%\n"
    }
   }
  }
 ],
 "metadata": {
  "kernelspec": {
   "display_name": "Python 3",
   "language": "python",
   "name": "python3"
  },
  "language_info": {
   "codemirror_mode": {
    "name": "ipython",
    "version": 2
   },
   "file_extension": ".py",
   "mimetype": "text/x-python",
   "name": "python",
   "nbconvert_exporter": "python",
   "pygments_lexer": "ipython2",
   "version": "2.7.6"
  }
 },
 "nbformat": 4,
 "nbformat_minor": 0
}